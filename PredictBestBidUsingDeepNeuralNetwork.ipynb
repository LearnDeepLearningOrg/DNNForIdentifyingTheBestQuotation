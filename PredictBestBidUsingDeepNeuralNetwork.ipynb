{
 "cells": [
  {
   "cell_type": "code",
   "execution_count": 1,
   "metadata": {
    "colab": {},
    "colab_type": "code",
    "id": "3BUqoCm8Cq_1"
   },
   "outputs": [],
   "source": [
    "## Import the required libraries"
   ]
  },
  {
   "cell_type": "code",
   "execution_count": 2,
   "metadata": {
    "colab": {
     "base_uri": "https://localhost:8080/",
     "height": 34
    },
    "colab_type": "code",
    "id": "QNaaCLznCq_6",
    "outputId": "09994f4f-f25e-4b23-e2f9-dd63b403d2d6"
   },
   "outputs": [
    {
     "name": "stdout",
     "output_type": "stream",
     "text": [
      "1.13.1\n"
     ]
    }
   ],
   "source": [
    "# Import necessary packages\n",
    "from __future__ import absolute_import, division, print_function\n",
    "from numpy.random import choice, uniform, randint\n",
    "import numpy as np\n",
    "import pandas as pd\n",
    "\n",
    "import pathlib\n",
    "\n",
    "import matplotlib.pyplot as plt\n",
    "import pandas as pd\n",
    "import seaborn as sns\n",
    "\n",
    "import tensorflow as tf\n",
    "from tensorflow import keras\n",
    "from tensorflow.keras import layers\n",
    "\n",
    "from sklearn.model_selection import train_test_split\n",
    "\n",
    "print(tf.__version__)"
   ]
  },
  {
   "cell_type": "code",
   "execution_count": 3,
   "metadata": {
    "colab": {
     "base_uri": "https://localhost:8080/",
     "height": 238
    },
    "colab_type": "code",
    "id": "YKlYYH8mCrAC",
    "outputId": "3f48b8b3-2808-41a4-fd62-f201de355790"
   },
   "outputs": [
    {
     "data": {
      "text/plain": [
       "['Company Name',\n",
       " 'Plan Of Execution Submitted',\n",
       " 'Skilled Resources Availability',\n",
       " 'Equipment Availability',\n",
       " 'Quality Of Plan Of Execution',\n",
       " 'Company Rating',\n",
       " 'Proposed Cost',\n",
       " 'Relevance Of The Project',\n",
       " 'Success Rate Of Past Projects',\n",
       " 'Duration Specified By Owner',\n",
       " 'Duration Specified By Bidder',\n",
       " 'Number Of Projects Completed',\n",
       " 'Number Of Projects Completed For This Owner']"
      ]
     },
     "execution_count": 3,
     "metadata": {},
     "output_type": "execute_result"
    }
   ],
   "source": [
    "#Define column names\n",
    "columnNames=['Company Name',\n",
    "             'Plan Of Execution Submitted',\n",
    "             'Skilled Resources Availability',\n",
    "             'Equipment Availability',\n",
    "             'Quality Of Plan Of Execution',\n",
    "             'Company Rating',\n",
    "             'Proposed Cost',\n",
    "             'Relevance Of The Project',\n",
    "             'Success Rate Of Past Projects',\n",
    "             'Duration Specified By Owner',\n",
    "             'Duration Specified By Bidder',\n",
    "             'Number Of Projects Completed',\n",
    "             'Number Of Projects Completed For This Owner'\n",
    "             ]\n",
    "columnNames"
   ]
  },
  {
   "cell_type": "code",
   "execution_count": 4,
   "metadata": {
    "colab": {
     "base_uri": "https://localhost:8080/",
     "height": 34
    },
    "colab_type": "code",
    "id": "jfP0fDzZCrAK",
    "outputId": "1ee360d9-3ec5-4165-c45c-9f03c887a884"
   },
   "outputs": [
    {
     "data": {
      "text/plain": [
       "['Yes', 'No']"
      ]
     },
     "execution_count": 4,
     "metadata": {},
     "output_type": "execute_result"
    }
   ],
   "source": [
    "# Define categorical type columns\n",
    "'''\n",
    " Defining  \n",
    " - Column           : 'Plan of execution submitted'\n",
    " - Column Type      : 'Categorical'\n",
    " - Valid values are : 'Yes', 'No'\n",
    " - Description      : 'Indicates whether the bidding company has submitted the plan of execution or not'\n",
    "'''\n",
    "columnPlanOfExecutionSubmitted=['Yes','No']\n",
    "columnPlanOfExecutionSubmitted"
   ]
  },
  {
   "cell_type": "code",
   "execution_count": 5,
   "metadata": {
    "colab": {
     "base_uri": "https://localhost:8080/",
     "height": 34
    },
    "colab_type": "code",
    "id": "_pksZoDFCrAS",
    "outputId": "90f5e981-f4a3-4821-b5d5-6ba15470ef56"
   },
   "outputs": [
    {
     "data": {
      "text/plain": [
       "['Need to recruit', 'Need to train', 'Ready']"
      ]
     },
     "execution_count": 5,
     "metadata": {},
     "output_type": "execute_result"
    }
   ],
   "source": [
    "'''\n",
    " Defining  \n",
    " - Column           : 'Skilled resources availability'\n",
    " - Column Type      : 'Categorical'\n",
    " - Valid values are : 'Need to recruit','Need to train','Ready'\n",
    " - Description      : 'Indicates the availability of the skilled resources'\n",
    "'''\n",
    "columnSkilledResourcesAvailability=['Need to recruit','Need to train','Ready']\n",
    "columnSkilledResourcesAvailability"
   ]
  },
  {
   "cell_type": "code",
   "execution_count": 6,
   "metadata": {
    "colab": {
     "base_uri": "https://localhost:8080/",
     "height": 34
    },
    "colab_type": "code",
    "id": "JcMv3AdGCrAX",
    "outputId": "90a5a921-c362-4821-bb88-7ca640c6fbad"
   },
   "outputs": [
    {
     "data": {
      "text/plain": [
       "['Going to procure', 'Ready']"
      ]
     },
     "execution_count": 6,
     "metadata": {},
     "output_type": "execute_result"
    }
   ],
   "source": [
    "'''\n",
    " Defining  \n",
    " - Column           : 'Equipment availability'\n",
    " - Column Type      : 'Categorical'\n",
    " - Valid values are : 'Going to procure or hire','Ready'\n",
    " - Description      : 'Indicates the availability of the required equipment for executing the project'\n",
    "'''\n",
    "columnEquipmentAvailability=['Going to procure','Ready']\n",
    "columnEquipmentAvailability"
   ]
  },
  {
   "cell_type": "code",
   "execution_count": 7,
   "metadata": {
    "colab": {
     "base_uri": "https://localhost:8080/",
     "height": 34
    },
    "colab_type": "code",
    "id": "j0giQmltCrAc",
    "outputId": "1dd15911-c6eb-40bc-d0a6-0f0a4bd0a9aa"
   },
   "outputs": [
    {
     "data": {
      "text/plain": [
       "['Excellent', 'Good', 'Average']"
      ]
     },
     "execution_count": 7,
     "metadata": {},
     "output_type": "execute_result"
    }
   ],
   "source": [
    "'''\n",
    " Defining  \n",
    " - Column           : 'Quality Of Plan Of Execution'\n",
    " - Column Type      : 'Categorical'\n",
    " - Valid values are : 'Excellent','Good','Average'\n",
    " - Description      : 'Indicates the quality of plan of execution'\n",
    "'''\n",
    "columnQualityOfPlanOfExecution=['Excellent','Good','Average']\n",
    "columnQualityOfPlanOfExecution"
   ]
  },
  {
   "cell_type": "code",
   "execution_count": 8,
   "metadata": {
    "colab": {
     "base_uri": "https://localhost:8080/",
     "height": 34
    },
    "colab_type": "code",
    "id": "XC-D4Da7CrAh",
    "outputId": "b12db435-7b6a-41ae-b6ed-f4dee9d65376"
   },
   "outputs": [
    {
     "data": {
      "text/plain": [
       "{'lowerBound': 3, 'upperBound': 5}"
      ]
     },
     "execution_count": 8,
     "metadata": {},
     "output_type": "execute_result"
    }
   ],
   "source": [
    "'''\n",
    " Defining  \n",
    " - Column           : 'Company Rating'\n",
    " - Column Type      : 'Real'\n",
    " - Valid values are : 'Range between 1 to 5'\n",
    " - Description      : 'Market rating for the company'\n",
    "'''\n",
    "columnCompanyRating={'lowerBound':3, 'upperBound':5}\n",
    "columnCompanyRating"
   ]
  },
  {
   "cell_type": "code",
   "execution_count": 9,
   "metadata": {
    "colab": {
     "base_uri": "https://localhost:8080/",
     "height": 34
    },
    "colab_type": "code",
    "id": "MN1eP4wKCrAn",
    "outputId": "71b24cae-683b-4f15-d5ac-684b44130909"
   },
   "outputs": [
    {
     "data": {
      "text/plain": [
       "{'lowerBound': 1, 'upperBound': 1000000}"
      ]
     },
     "execution_count": 9,
     "metadata": {},
     "output_type": "execute_result"
    }
   ],
   "source": [
    "'''\n",
    " Defining  \n",
    " - Column           : 'Proposed cost'\n",
    " - Column Type      : 'Real'\n",
    " - Valid values are : 'Range between 1 to 1000000'\n",
    " - Description      : 'This is cost estimation proposed by the bidder (in lakhs)'\n",
    "'''\n",
    "columnProposedCost={'lowerBound':1, 'upperBound':1000000}\n",
    "columnProposedCost"
   ]
  },
  {
   "cell_type": "code",
   "execution_count": 10,
   "metadata": {
    "colab": {
     "base_uri": "https://localhost:8080/",
     "height": 34
    },
    "colab_type": "code",
    "id": "lW4BBPQhCrAt",
    "outputId": "e74aeb4f-f18b-4f00-e653-7774c7936ae7"
   },
   "outputs": [
    {
     "data": {
      "text/plain": [
       "{'lowerBound': 0.5, 'upperBound': 1}"
      ]
     },
     "execution_count": 10,
     "metadata": {},
     "output_type": "execute_result"
    }
   ],
   "source": [
    "'''\n",
    " Defining  \n",
    " - Column           : 'Relevance of the project'\n",
    " - Column Type      : 'Real'\n",
    " - Valid values are : 'Range between 0 to 100'\n",
    " - Description      : 'Out of all the projects executed by the bidding company, number of projects that are \n",
    "                       relevant to the current project'\n",
    "'''\n",
    "columnRelevanceOfTheProject={'lowerBound':0.5, 'upperBound':1}\n",
    "columnRelevanceOfTheProject"
   ]
  },
  {
   "cell_type": "code",
   "execution_count": 11,
   "metadata": {
    "colab": {
     "base_uri": "https://localhost:8080/",
     "height": 34
    },
    "colab_type": "code",
    "id": "GW7zWpZ0CrAz",
    "outputId": "8ac647dc-b644-48e9-b108-e3876d1c7c7c"
   },
   "outputs": [
    {
     "data": {
      "text/plain": [
       "{'lowerBound': 0.5, 'upperBound': 1}"
      ]
     },
     "execution_count": 11,
     "metadata": {},
     "output_type": "execute_result"
    }
   ],
   "source": [
    "'''\n",
    " Defining  \n",
    " - Column           : 'Success rate of past projects'\n",
    " - Column Type      : 'Real'\n",
    " - Valid values are : 'Range between 0 to 100'\n",
    " - Description      : 'Success rate of the past projects executed by the bidding company. \n",
    "                       This will be a percentage'\n",
    "'''\n",
    "columnSuccessRateOfPastProjects={'lowerBound':0.5, 'upperBound':1}\n",
    "columnSuccessRateOfPastProjects"
   ]
  },
  {
   "cell_type": "code",
   "execution_count": 12,
   "metadata": {
    "colab": {
     "base_uri": "https://localhost:8080/",
     "height": 34
    },
    "colab_type": "code",
    "id": "tpqMHICqCrA4",
    "outputId": "1da9e7cc-b93d-4d1f-f7ba-83c37bd97024"
   },
   "outputs": [
    {
     "data": {
      "text/plain": [
       "{'lowerBound': 12, 'upperBound': 60}"
      ]
     },
     "execution_count": 12,
     "metadata": {},
     "output_type": "execute_result"
    }
   ],
   "source": [
    "'''\n",
    " Defining  \n",
    " - Column           : 'Duration specified by owner'\n",
    " - Column Type      : 'Int'\n",
    " - Valid values are : 'Range between 0 to 60'\n",
    " - Description      : 'Duration specified by the owner calling for bids. This duration will be \n",
    "                       in months (maximum 5 years)'\n",
    "'''\n",
    "columnDurationSpecifiedByOwner={'lowerBound':12, 'upperBound':60}\n",
    "columnDurationSpecifiedByOwner"
   ]
  },
  {
   "cell_type": "code",
   "execution_count": 13,
   "metadata": {
    "colab": {
     "base_uri": "https://localhost:8080/",
     "height": 34
    },
    "colab_type": "code",
    "id": "rX5I7poTCrA8",
    "outputId": "be8bd282-5b52-4bc8-bc38-3d4fd0a2208d"
   },
   "outputs": [
    {
     "data": {
      "text/plain": [
       "{'lowerBound': 12, 'upperBound': 60}"
      ]
     },
     "execution_count": 13,
     "metadata": {},
     "output_type": "execute_result"
    }
   ],
   "source": [
    "'''\n",
    " Defining  \n",
    " - Column           : 'Duration specified by the bidder'\n",
    " - Column Type      : 'Int'\n",
    " - Valid values are : 'Range between 0 to 60'\n",
    " - Description      : 'Duration specified by the bidder. This duration will \n",
    "                       be in months (maximum 10 years)'\n",
    "'''\n",
    "columnDurationSpecifiedByTheBidder={'lowerBound':12, 'upperBound':60}\n",
    "columnDurationSpecifiedByTheBidder"
   ]
  },
  {
   "cell_type": "code",
   "execution_count": 14,
   "metadata": {
    "colab": {
     "base_uri": "https://localhost:8080/",
     "height": 34
    },
    "colab_type": "code",
    "id": "IoC0qLKiCrBB",
    "outputId": "5ad70aaa-3983-4a81-fe50-fc5a0f7779a3"
   },
   "outputs": [
    {
     "data": {
      "text/plain": [
       "{'lowerBound': 50, 'upperBound': 100}"
      ]
     },
     "execution_count": 14,
     "metadata": {},
     "output_type": "execute_result"
    }
   ],
   "source": [
    "'''\n",
    " Defining  \n",
    " - Column           : 'Number of projects completed'\n",
    " - Column Type      : 'Int'\n",
    " - Valid values are : 'Range between 0 to 100'\n",
    " - Description      : 'Number of projects completed'\n",
    "'''\n",
    "columnNumberOfProjectsCompleted={'lowerBound':50, 'upperBound':100}\n",
    "columnNumberOfProjectsCompleted"
   ]
  },
  {
   "cell_type": "code",
   "execution_count": 15,
   "metadata": {
    "colab": {
     "base_uri": "https://localhost:8080/",
     "height": 34
    },
    "colab_type": "code",
    "id": "6rZ8px3WCrBH",
    "outputId": "8b8b84f2-37e0-40e3-c654-95929ab895de"
   },
   "outputs": [
    {
     "data": {
      "text/plain": [
       "{'lowerBound': 25, 'upperBound': 50}"
      ]
     },
     "execution_count": 15,
     "metadata": {},
     "output_type": "execute_result"
    }
   ],
   "source": [
    "'''\n",
    " Defining  \n",
    " - Column           : 'Number Of Projects Completed For This Owner'\n",
    " - Column Type      : 'Int'\n",
    " - Valid values are : 'Range between 0 to 100'\n",
    " - Description      : 'Number Of Projects Completed For This Owner'\n",
    "'''\n",
    "columnNumberOfProjectsCompletedForThisOwner={'lowerBound':25, 'upperBound':50}\n",
    "columnNumberOfProjectsCompletedForThisOwner"
   ]
  },
  {
   "cell_type": "code",
   "execution_count": 16,
   "metadata": {
    "colab": {},
    "colab_type": "code",
    "id": "bRqBqloxCrBM"
   },
   "outputs": [],
   "source": [
    "# Function to generate data for company name\n",
    "def generateDataForCompanyName(m):\n",
    "    lst=[]\n",
    "    for i in range(m):\n",
    "        lst.append('C'+str(i+1))\n",
    "    x= np.array(lst)\n",
    "    return x"
   ]
  },
  {
   "cell_type": "code",
   "execution_count": 17,
   "metadata": {
    "colab": {},
    "colab_type": "code",
    "id": "xrRxvAllCrBP"
   },
   "outputs": [],
   "source": [
    "# Function to generate data for categorical type of columns\n",
    "def generateDataForCategoricalColumns(lst, m):\n",
    "    x = choice(lst,m)\n",
    "    return x"
   ]
  },
  {
   "cell_type": "code",
   "execution_count": 18,
   "metadata": {
    "colab": {},
    "colab_type": "code",
    "id": "DQw7Ru5xCrBS"
   },
   "outputs": [],
   "source": [
    "# Function to generate data for real number type of columns\n",
    "def generateDataForRealColumns(lower_bound, upper_bound,m):\n",
    "    x = uniform(lower_bound, upper_bound,m)\n",
    "    return x"
   ]
  },
  {
   "cell_type": "code",
   "execution_count": 19,
   "metadata": {
    "colab": {},
    "colab_type": "code",
    "id": "T4RiCjcKCrBV"
   },
   "outputs": [],
   "source": [
    "# Function to generate data for intiger type of columns\n",
    "def generateDataForIntegerColumns(lower_bound, upper_bound, m):\n",
    "    x = randint(lower_bound, upper_bound, m)\n",
    "    return x"
   ]
  },
  {
   "cell_type": "code",
   "execution_count": 20,
   "metadata": {
    "colab": {},
    "colab_type": "code",
    "id": "Pyi_JmInCrBZ"
   },
   "outputs": [],
   "source": [
    "# Function to generate data set\n",
    "def generatDataset(numberOfExamplesInDataSet):\n",
    "    # Create empty dataSet\n",
    "    dataSet=pd.DataFrame()\n",
    "\n",
    "    # Generate data for 'Company Name' column\n",
    "    dataSet[columnNames[0]]=generateDataForCompanyName(numberOfExamplesInDataSet)\n",
    "\n",
    "    for item in columnNames:\n",
    "        # Generate data for 'Plan Of Execution Submitted' column\n",
    "        if item == 'Plan Of Execution Submitted':\n",
    "            dataSet[item]=generateDataForCategoricalColumns(columnPlanOfExecutionSubmitted,numberOfExamplesInDataSet)\n",
    "        # Generate data for 'Skilled Resources Availability' column\n",
    "        if item == 'Skilled Resources Availability':\n",
    "            dataSet[item]=generateDataForCategoricalColumns(columnSkilledResourcesAvailability,numberOfExamplesInDataSet)\n",
    "        # Generate data for 'Equipment Availability' column\n",
    "        if item == 'Equipment Availability':\n",
    "            dataSet[item]=generateDataForCategoricalColumns(columnEquipmentAvailability,numberOfExamplesInDataSet)\n",
    "        # Generate data for 'Quality Of Plan Of Execution' column\n",
    "        if item == 'Quality Of Plan Of Execution':\n",
    "            dataSet[item]=generateDataForCategoricalColumns(columnQualityOfPlanOfExecution,numberOfExamplesInDataSet)\n",
    "        # Generate data for 'Company Rating' column\n",
    "        if item == 'Company Rating':\n",
    "            dataSet[item]=generateDataForRealColumns(columnCompanyRating['lowerBound'], columnCompanyRating['upperBound'], numberOfExamplesInDataSet)\n",
    "        # Generate data for 'Proposed Cost' column\n",
    "        if item == 'Proposed Cost':\n",
    "            dataSet[item]=generateDataForRealColumns(columnProposedCost['lowerBound'], columnProposedCost['upperBound'], numberOfExamplesInDataSet)\n",
    "        # Generate data for 'Relevance Of The Project' column\n",
    "        if item == 'Relevance Of The Project':\n",
    "            dataSet[item]=generateDataForRealColumns(columnRelevanceOfTheProject['lowerBound'], columnRelevanceOfTheProject['upperBound'], numberOfExamplesInDataSet)\n",
    "        # Generate data for 'Success Rate Of Past Projects' column\n",
    "        if item == 'Success Rate Of Past Projects':\n",
    "            dataSet[item]=generateDataForRealColumns(columnSuccessRateOfPastProjects['lowerBound'], columnSuccessRateOfPastProjects['upperBound'], numberOfExamplesInDataSet)\n",
    "        # Generate data for 'Duration Specified By Owner' column\n",
    "        if item == 'Duration Specified By Owner':\n",
    "            dataSet[item]=generateDataForIntegerColumns(columnDurationSpecifiedByOwner['lowerBound'], columnDurationSpecifiedByOwner['upperBound'], numberOfExamplesInDataSet)\n",
    "        # Generate data for 'Duration Specified By Bidder' column\n",
    "        if item == 'Duration Specified By Bidder':\n",
    "            dataSet[item]=generateDataForIntegerColumns(columnDurationSpecifiedByTheBidder['lowerBound'], columnDurationSpecifiedByTheBidder['upperBound'], numberOfExamplesInDataSet)\n",
    "        # Generate data for 'Number of projects completed' column\n",
    "        if item == 'Number Of Projects Completed':\n",
    "            dataSet[item]=generateDataForIntegerColumns(columnNumberOfProjectsCompleted['lowerBound'], columnNumberOfProjectsCompleted['upperBound'], numberOfExamplesInDataSet)\n",
    "        # Generate data for 'Number Of Projects Completed For This Owner' column\n",
    "        if item == 'Number Of Projects Completed For This Owner':\n",
    "            temp = [None] * numberOfExamplesInDataSet\n",
    "            for i in range(numberOfExamplesInDataSet): \n",
    "                tempNumberOfProjectsCompleted=dataSet['Number Of Projects Completed'][i]\n",
    "                if tempNumberOfProjectsCompleted <= 0:\n",
    "                    tempNumberOfProjectsCompleted=1\n",
    "                temp[i]=randint(columnNumberOfProjectsCompletedForThisOwner['lowerBound'],tempNumberOfProjectsCompleted)\n",
    "            dataSet[item]=temp\n",
    "    return dataSet"
   ]
  },
  {
   "cell_type": "code",
   "execution_count": 21,
   "metadata": {
    "colab": {},
    "colab_type": "code",
    "id": "7nlAC5GcCrBf"
   },
   "outputs": [],
   "source": [
    "def generateDataForLabelForEachRow (row):\n",
    "    if (row['Company Rating'] >= 3 and \n",
    "        row['Duration Specified By Bidder'] <= row['Duration Specified By Owner'] and\n",
    "        (row['Number Of Projects Completed'] >= 50 and row['Relevance Of The Project'] >= 0.5 and row['Success Rate Of Past Projects'] >= 0.5) and\n",
    "        row['Number Of Projects Completed For This Owner'] >= (row['Number Of Projects Completed'] / 2) and \n",
    "        row['Plan Of Execution Submitted'] == 'Yes' and\n",
    "        (row['Quality Of Plan Of Execution'] == 'Excellent' or row['Quality Of Plan Of Execution'] == 'Good') and\n",
    "        row['Skilled Resources Availability'] == 'Ready' and\n",
    "        row['Equipment Availability'] == 'Ready'):\n",
    "            return 1\n",
    "    #Plan Of Execution Submitted - No\n",
    "    if (row['Company Rating'] >= 3 and \n",
    "        row['Duration Specified By Bidder'] <= row['Duration Specified By Owner'] and\n",
    "        (row['Number Of Projects Completed'] >= 50 and row['Relevance Of The Project'] >= 0.5 and row['Success Rate Of Past Projects'] >= 0.5) and\n",
    "        row['Number Of Projects Completed For This Owner'] >= (row['Number Of Projects Completed'] / 2) and \n",
    "        row['Plan Of Execution Submitted'] == 'No' and\n",
    "        (row['Quality Of Plan Of Execution'] == 'Excellent' or row['Quality Of Plan Of Execution'] == 'Good') and\n",
    "        row['Skilled Resources Availability'] == 'Ready' and\n",
    "        row['Equipment Availability'] == 'Ready'):\n",
    "            return 1\n",
    "    #Number Of Projects Completed <= 10\n",
    "    if (row['Company Rating'] >= 3 and \n",
    "        row['Duration Specified By Bidder'] <= row['Duration Specified By Owner'] and\n",
    "        (row['Number Of Projects Completed'] <= 10 and row['Relevance Of The Project'] >= 0.5 and row['Success Rate Of Past Projects'] >= 0.5) and\n",
    "        row['Number Of Projects Completed For This Owner'] >= (row['Number Of Projects Completed'] / 2) and \n",
    "        row['Plan Of Execution Submitted'] == 'No' and\n",
    "        (row['Quality Of Plan Of Execution'] == 'Excellent' or row['Quality Of Plan Of Execution'] == 'Good') and\n",
    "        row['Skilled Resources Availability'] == 'Ready' and\n",
    "        row['Equipment Availability'] == 'Ready'):\n",
    "            return 1\n",
    "    #Number Of 'Company Rating' >= 4 and 'Number Of Projects Completed' >= 50 and 'Relevance Of The Project' <= 0.5 and 'Success Rate Of Past Projects' >= 0.75\n",
    "    if (row['Company Rating'] >= 4 and \n",
    "        row['Duration Specified By Bidder'] <= row['Duration Specified By Owner'] and\n",
    "        (row['Number Of Projects Completed'] >= 50 and row['Relevance Of The Project'] <= 0.5 and row['Success Rate Of Past Projects'] >= 0.75) and\n",
    "        row['Number Of Projects Completed For This Owner'] >= (row['Number Of Projects Completed'] / 2) and \n",
    "        row['Plan Of Execution Submitted'] == 'No' and\n",
    "        (row['Quality Of Plan Of Execution'] == 'Excellent' or row['Quality Of Plan Of Execution'] == 'Good') and\n",
    "        row['Skilled Resources Availability'] == 'Ready' and\n",
    "        row['Equipment Availability'] == 'Ready'):\n",
    "            return 1\n",
    "    return 0"
   ]
  },
  {
   "cell_type": "code",
   "execution_count": 22,
   "metadata": {
    "colab": {},
    "colab_type": "code",
    "id": "0AvHyVNvCrBj"
   },
   "outputs": [],
   "source": [
    "def checkDetailsOfDataSet(dataSet):\n",
    "    # check number of exapmles of with targetLabel >= 0.5\n",
    "    targetLabelCount1 = len(dataSet[dataSet['Target']>=0.5])\n",
    "    targetLabelCount2 = len(dataSet[dataSet['Target']<0.5])\n",
    "    print('Number of rows with value of targetLabel >= 0.5: ',targetLabelCount1)\n",
    "    print('Number of rows with value of targetLabel < 0.5: ',targetLabelCount2)\n",
    "    print()\n",
    "    print('Describe dataSet: ')\n",
    "    print(dataSet.describe())"
   ]
  },
  {
   "cell_type": "code",
   "execution_count": 23,
   "metadata": {
    "colab": {},
    "colab_type": "code",
    "id": "V3lIqiFeCrBm"
   },
   "outputs": [],
   "source": [
    "def oneHotEncode(dataSet,categoricalColumns):\n",
    "    onHotEncodedDataSet=pd.get_dummies(dataSet, columns=categoricalColumns, prefix=categoricalColumns)\n",
    "    return onHotEncodedDataSet"
   ]
  },
  {
   "cell_type": "code",
   "execution_count": 24,
   "metadata": {
    "colab": {},
    "colab_type": "code",
    "id": "9G-zsyPGCrBs"
   },
   "outputs": [],
   "source": [
    "#Reference: https://www.tensorflow.org/tutorials/keras/basic_classification\n",
    "#Reference: https://keras.io/regularizers/\n",
    "#Function to build the model\n",
    "'''\n",
    "The model has 10 layers\n",
    "9 of the layers are the hidden layers, 1 layer is the output softmax layer\n",
    "In each layer we have different number of nodes (neurons)\n",
    "In the last layer we only have 2 nodes (neurons)\n",
    "In each of the hidden layers, we are using the activation function as RELU\n",
    "After each layer, dropout regularization is applied\n",
    "In the output layer, we are using the activation function as SOFTMAX, as we want to predict the probability of the 2 classes, \n",
    "that is probability of 'Good Bid', probability of 'Bad Bid'\n",
    "'''\n",
    "def build_model(trainx, trainy):\n",
    "    model = keras.Sequential([\n",
    "        layers.Dense(10,\n",
    "                     activation=tf.nn.relu, \n",
    "                     input_shape=[len(trainx.keys())]),\n",
    "        layers.Dropout(0.5),\n",
    "        layers.Dense(20,\n",
    "                     activation=tf.nn.relu),\n",
    "        layers.Dropout(0.6),\n",
    "        layers.Dense(30,\n",
    "                     activation=tf.nn.relu),\n",
    "        layers.Dropout(0.7),\n",
    "        layers.Dense(40,\n",
    "                     activation=tf.nn.relu),\n",
    "        layers.Dropout(0.8),\n",
    "        layers.Dense(50,\n",
    "                     activation=tf.nn.relu),\n",
    "        layers.Dropout(0.9),\n",
    "        layers.Dense(60,\n",
    "                     activation=tf.nn.relu),\n",
    "        layers.Dropout(0.8),\n",
    "        layers.Dense(70,\n",
    "                     activation=tf.nn.relu),\n",
    "        layers.Dropout(0.7),\n",
    "        layers.Dense(80,\n",
    "                     activation=tf.nn.relu),\n",
    "        layers.Dropout(0.6),\n",
    "        layers.Dense(90,\n",
    "                     activation=tf.nn.relu),\n",
    "        layers.Dropout(0.5),\n",
    "        layers.Dense(2, activation=tf.nn.softmax),\n",
    "    ])\n",
    "    \n",
    "    model.compile(optimizer='adam',\n",
    "                  loss='sparse_categorical_crossentropy',\n",
    "                  #loss=tf.keras.losses.MeanSquaredError(),\n",
    "                  #loss='binary_crossentropy',\n",
    "                  metrics=['accuracy'])\n",
    "    return model"
   ]
  },
  {
   "cell_type": "code",
   "execution_count": 25,
   "metadata": {
    "colab": {},
    "colab_type": "code",
    "id": "_MOy0ietCrBv"
   },
   "outputs": [],
   "source": [
    "def evaluateModeTrainAccuracy(model, trainx, trainy):\n",
    "    #Evaluate the loss and accuracy of the trained model, using the test dataSet\n",
    "    train_loss, train_acc = model.evaluate(trainx, trainy)\n",
    "    print('Model accuracy on train dataSet:', train_acc)\n",
    "    print('Model loss on train dataSet:', train_loss)\n",
    "    return train_acc"
   ]
  },
  {
   "cell_type": "code",
   "execution_count": 26,
   "metadata": {
    "colab": {},
    "colab_type": "code",
    "id": "3lGuviUQCrBy"
   },
   "outputs": [],
   "source": [
    "def evaluateModeTestAccuracy(model, testx, testy):\n",
    "    #Evaluate the loss and accuracy of the trained model, using the test dataSet\n",
    "    test_loss, test_acc = model.evaluate(testx, testy)\n",
    "    print('Model accuracy on test dataSet:', test_acc)\n",
    "    print('Model loss on test dataSet:', test_loss)\n",
    "    return test_acc"
   ]
  },
  {
   "cell_type": "code",
   "execution_count": 30,
   "metadata": {
    "colab": {},
    "colab_type": "code",
    "id": "gg8Y2MmjCrB1"
   },
   "outputs": [],
   "source": [
    "#This function invoked the individual functions to \n",
    "#Generate the dataset\n",
    "#Preprocess the dataset\n",
    "#Split the dataset into train and test sets\n",
    "#Build the model\n",
    "#Fit the model\n",
    "#Evaluate the model\n",
    "\n",
    "def predictBestBidUsingDeepNeuralNetwork(numberOfExamplesInDataSet, testSetSize):\n",
    "    #Start generating the dataSet\n",
    "    print('****** Start generating the dataSet ******')\n",
    "    dataSet=generatDataset(numberOfExamplesInDataSet)\n",
    "    print('****** Completed generating the dataSet ******')\n",
    "    #Completed generating the dataSet\n",
    "    \n",
    "    #Start preprocessing the dataSet\n",
    "    print('****** Start preprocessing the dataSet ******')\n",
    "    #Define Categorical columns\n",
    "    categoricalColumns = ['Plan Of Execution Submitted','Skilled Resources Availability', 'Equipment Availability','Quality Of Plan Of Execution']\n",
    "\n",
    "    # Perform OnHotEncoding to convert categorical values into one-hot encoded faculty\n",
    "    onHotEncodedDataSet = oneHotEncode(dataSet,categoricalColumns)\n",
    "    onHotEncodedDataSet.pop('Company Name')    \n",
    "    onHotEncodedDataSet['Company Rating'] = dataSet['Company Rating']\n",
    "    onHotEncodedDataSet['Proposed Cost'] = dataSet['Proposed Cost']\n",
    "    onHotEncodedDataSet['Relevance Of The Project'] = dataSet['Relevance Of The Project']\n",
    "    onHotEncodedDataSet['Success Rate Of Past Projects'] = dataSet['Success Rate Of Past Projects']\n",
    "    onHotEncodedDataSet['Duration Specified By Owner'] = dataSet['Duration Specified By Owner']\n",
    "    onHotEncodedDataSet['Duration Specified By Bidder'] = dataSet['Duration Specified By Bidder']\n",
    "    onHotEncodedDataSet['Number Of Projects Completed'] = dataSet['Number Of Projects Completed']\n",
    "    onHotEncodedDataSet['Number Of Projects Completed For This Owner'] = dataSet['Number Of Projects Completed For This Owner']\n",
    "    \n",
    "    cols=onHotEncodedDataSet.columns\n",
    "\n",
    "    targetLabels=dataSet.apply(lambda row : generateDataForLabelForEachRow(row), axis=1)\n",
    "    dataSet['Target']=targetLabels\n",
    "\n",
    "    #Check the details of the dataSet\n",
    "    #checkDetailsOfDataSet(dataSet)\n",
    "    \n",
    "    onHotEncodedDataSetExportToExcelTemp = onHotEncodedDataSet\n",
    "    onHotEncodedDataSetExportToExcelTemp['Target']=targetLabels\n",
    "    dataSetExportToExcel = dataSet.to_excel (r'D:\\Personal Data\\Gitam\\DXC\\Implementation\\originalDataSet.xlsx', index = None, header=True) \n",
    "    onHotEncodedDataSetExportToExcelTemp = onHotEncodedDataSetExportToExcelTemp.to_excel (r'D:\\Personal Data\\Gitam\\DXC\\Implementation\\onHotEncodedDataSet.xlsx', index = None, header=True) \n",
    "    #Don't forget to add '.xlsx' at the end of the path\n",
    "\n",
    "    bidClassNames = ['Good Bid', 'Bad Bid']\n",
    "    \n",
    "    #print ('onHotEncodedDataSet: ',onHotEncodedDataSet)\n",
    "    #print ('dataSet: ',dataSet)\n",
    "    #print ('bidClassNames: ',bidClassNames)\n",
    "    print('****** Completed preprocessing the dataSet ******')\n",
    "    #Completed preprocessing the dataSet\n",
    "    \n",
    "    #Start spliting the dataset into Train & Test sets\n",
    "    print('****** Start spliting the dataset into Train & Test sets ******')\n",
    "    cols\n",
    "    features=cols\n",
    "    #print ('features: ',features)\n",
    "\n",
    "    x = onHotEncodedDataSet[features]\n",
    "    y = dataSet['Target']\n",
    "\n",
    "    trainx, testx, trainy, testy = train_test_split(x,y, test_size=testSetSize, random_state=1)\n",
    "    #print ('trainx: ',trainx)\n",
    "    #print ('trainy: ',trainy)\n",
    "    #print ('len(trainx.keys()): ', len(trainx.keys()))\n",
    "    print('****** Completed spliting the dataset into Train & Test sets ******')\n",
    "    #Completed spliting the dataset into Train & Test sets\n",
    "    \n",
    "    #Start building the model using the function build_model\n",
    "    print('****** Start building the model using the function build_model ******')\n",
    "    model = build_model(trainx, trainy)\n",
    "    #Show summary of the model\n",
    "    model.summary()    \n",
    "    print('****** Completed building the model using the function build_model ******')\n",
    "    #Completed building the model using the function build_model\n",
    "    \n",
    "    #Start training the model using the train dataSet\n",
    "    print('****** Start training the model using the train dataSet ******')\n",
    "    modelHistory = model.fit(trainx, trainy, epochs=10, batch_size=5000, validation_data=(testx, testy), verbose=2)    \n",
    "    print('****** Completed training the model using the train dataSet ******')\n",
    "    #Completed training the model using the train dataSet\n",
    "\n",
    "    #Evaluate the model train accuracy\n",
    "    print('****** Evaluate the model train accuracy ******')\n",
    "    modelTrainAccuracy = evaluateModeTrainAccuracy(model, trainx, trainy)\n",
    "    #Evaluating the model train accuracy completed\n",
    "    \n",
    "    #Evaluate the model test accuracy\n",
    "    print('****** Evaluate the model test accuracy ******')\n",
    "    modelTestAccuracy = evaluateModeTestAccuracy(model, testx, testy)\n",
    "    #Evaluating the model test accuracy completed\n",
    "    \n",
    "    #return modelHistory\n",
    "    return model, modelHistory, modelTrainAccuracy, modelTestAccuracy"
   ]
  },
  {
   "cell_type": "code",
   "execution_count": 31,
   "metadata": {
    "colab": {},
    "colab_type": "code",
    "id": "uB-6S6HICrB4"
   },
   "outputs": [],
   "source": [
    "def plot_history(histories, key='acc'):\n",
    "  plt.figure(figsize=(16,10))\n",
    "    \n",
    "  for name, history in histories:\n",
    "    val = plt.plot(history.epoch, history.history[key], label=name.title()+' Train')\n",
    "    plt.plot(history.epoch, history.history['val_'+key], '--', color=val[0].get_color(), label=name.title()+' Test')\n",
    "\n",
    "  plt.xlabel('Epochs')\n",
    "  plt.ylabel(key.replace('_',' ').title())\n",
    "  plt.legend()\n",
    "\n",
    "  plt.xlim([0,max(history.epoch)])"
   ]
  },
  {
   "cell_type": "code",
   "execution_count": 32,
   "metadata": {
    "colab": {
     "base_uri": "https://localhost:8080/",
     "height": 1567
    },
    "colab_type": "code",
    "id": "sRHscNzQCrB8",
    "outputId": "7350cb95-ce38-4cb6-f0a4-97febde17fbf"
   },
   "outputs": [
    {
     "name": "stdout",
     "output_type": "stream",
     "text": [
      "****** Start generating the dataSet ******\n",
      "****** Completed generating the dataSet ******\n",
      "****** Start preprocessing the dataSet ******\n",
      "****** Completed preprocessing the dataSet ******\n",
      "****** Start spliting the dataset into Train & Test sets ******\n",
      "****** Completed spliting the dataset into Train & Test sets ******\n",
      "****** Start building the model using the function build_model ******\n",
      "WARNING:tensorflow:From D:\\Anaconda3\\lib\\site-packages\\tensorflow\\python\\ops\\resource_variable_ops.py:435: colocate_with (from tensorflow.python.framework.ops) is deprecated and will be removed in a future version.\n",
      "Instructions for updating:\n",
      "Colocations handled automatically by placer.\n",
      "WARNING:tensorflow:From D:\\Anaconda3\\lib\\site-packages\\tensorflow\\python\\keras\\layers\\core.py:143: calling dropout (from tensorflow.python.ops.nn_ops) with keep_prob is deprecated and will be removed in a future version.\n",
      "Instructions for updating:\n",
      "Please use `rate` instead of `keep_prob`. Rate should be set to `rate = 1 - keep_prob`.\n",
      "_________________________________________________________________\n",
      "Layer (type)                 Output Shape              Param #   \n",
      "=================================================================\n",
      "dense (Dense)                (None, 10)                190       \n",
      "_________________________________________________________________\n",
      "dropout (Dropout)            (None, 10)                0         \n",
      "_________________________________________________________________\n",
      "dense_1 (Dense)              (None, 20)                220       \n",
      "_________________________________________________________________\n",
      "dropout_1 (Dropout)          (None, 20)                0         \n",
      "_________________________________________________________________\n",
      "dense_2 (Dense)              (None, 30)                630       \n",
      "_________________________________________________________________\n",
      "dropout_2 (Dropout)          (None, 30)                0         \n",
      "_________________________________________________________________\n",
      "dense_3 (Dense)              (None, 40)                1240      \n",
      "_________________________________________________________________\n",
      "dropout_3 (Dropout)          (None, 40)                0         \n",
      "_________________________________________________________________\n",
      "dense_4 (Dense)              (None, 50)                2050      \n",
      "_________________________________________________________________\n",
      "dropout_4 (Dropout)          (None, 50)                0         \n",
      "_________________________________________________________________\n",
      "dense_5 (Dense)              (None, 60)                3060      \n",
      "_________________________________________________________________\n",
      "dropout_5 (Dropout)          (None, 60)                0         \n",
      "_________________________________________________________________\n",
      "dense_6 (Dense)              (None, 70)                4270      \n",
      "_________________________________________________________________\n",
      "dropout_6 (Dropout)          (None, 70)                0         \n",
      "_________________________________________________________________\n",
      "dense_7 (Dense)              (None, 80)                5680      \n",
      "_________________________________________________________________\n",
      "dropout_7 (Dropout)          (None, 80)                0         \n",
      "_________________________________________________________________\n",
      "dense_8 (Dense)              (None, 90)                7290      \n",
      "_________________________________________________________________\n",
      "dropout_8 (Dropout)          (None, 90)                0         \n",
      "_________________________________________________________________\n",
      "dense_9 (Dense)              (None, 2)                 182       \n",
      "=================================================================\n",
      "Total params: 24,812\n",
      "Trainable params: 24,812\n",
      "Non-trainable params: 0\n",
      "_________________________________________________________________\n",
      "****** Completed building the model using the function build_model ******\n",
      "****** Start training the model using the train dataSet ******\n",
      "Train on 95000 samples, validate on 5000 samples\n",
      "Epoch 1/10\n",
      " - 3s - loss: 1.9553 - acc: 0.8767 - val_loss: 0.6157 - val_acc: 0.9618\n",
      "Epoch 2/10\n",
      " - 1s - loss: 0.6895 - acc: 0.9543 - val_loss: 0.6157 - val_acc: 0.9618\n",
      "Epoch 3/10\n",
      " - 1s - loss: 0.6621 - acc: 0.9557 - val_loss: 0.6157 - val_acc: 0.9618\n",
      "Epoch 4/10\n",
      " - 1s - loss: 0.6535 - acc: 0.9558 - val_loss: 0.6157 - val_acc: 0.9618\n",
      "Epoch 5/10\n",
      " - 1s - loss: 0.6554 - acc: 0.9557 - val_loss: 0.6157 - val_acc: 0.9618\n",
      "Epoch 6/10\n",
      " - 1s - loss: 0.6601 - acc: 0.9558 - val_loss: 0.6157 - val_acc: 0.9618\n",
      "Epoch 7/10\n",
      " - 1s - loss: 0.6501 - acc: 0.9558 - val_loss: 0.6157 - val_acc: 0.9618\n",
      "Epoch 8/10\n",
      " - 1s - loss: 0.6556 - acc: 0.9558 - val_loss: 0.6157 - val_acc: 0.9618\n",
      "Epoch 9/10\n",
      " - 1s - loss: 0.6490 - acc: 0.9558 - val_loss: 0.6157 - val_acc: 0.9618\n",
      "Epoch 10/10\n",
      " - 1s - loss: 0.6545 - acc: 0.9558 - val_loss: 0.6157 - val_acc: 0.9618\n",
      "****** Completed training the model using the train dataSet ******\n",
      "****** Evaluate the model train accuracy ******\n",
      "95000/95000 [==============================] - 7s 70us/sample - loss: 0.7112 - acc: 0.9559\n",
      "Model accuracy on train dataSet: 0.95587367\n",
      "Model loss on train dataSet: 0.7112322170859889\n",
      "****** Evaluate the model test accuracy ******\n",
      "5000/5000 [==============================] - 0s 62us/sample - loss: 0.6157 - acc: 0.9618\n",
      "Model accuracy on test dataSet: 0.9618\n",
      "Model loss on test dataSet: 0.6157113000869735\n"
     ]
    }
   ],
   "source": [
    "model1, model1History, model1TrainAccuracy, model1TestAccuracy = predictBestBidUsingDeepNeuralNetwork(100000, 0.05)"
   ]
  },
  {
   "cell_type": "code",
   "execution_count": 33,
   "metadata": {
    "colab": {
     "base_uri": "https://localhost:8080/",
     "height": 1445
    },
    "colab_type": "code",
    "id": "4UQ2n6LYCrCE",
    "outputId": "d43c9c0c-c2d3-497b-ffa4-45d7e39ffcc2"
   },
   "outputs": [
    {
     "name": "stdout",
     "output_type": "stream",
     "text": [
      "****** Start generating the dataSet ******\n",
      "****** Completed generating the dataSet ******\n",
      "****** Start preprocessing the dataSet ******\n",
      "****** Completed preprocessing the dataSet ******\n",
      "****** Start spliting the dataset into Train & Test sets ******\n",
      "****** Completed spliting the dataset into Train & Test sets ******\n",
      "****** Start building the model using the function build_model ******\n",
      "_________________________________________________________________\n",
      "Layer (type)                 Output Shape              Param #   \n",
      "=================================================================\n",
      "dense_10 (Dense)             (None, 10)                190       \n",
      "_________________________________________________________________\n",
      "dropout_9 (Dropout)          (None, 10)                0         \n",
      "_________________________________________________________________\n",
      "dense_11 (Dense)             (None, 20)                220       \n",
      "_________________________________________________________________\n",
      "dropout_10 (Dropout)         (None, 20)                0         \n",
      "_________________________________________________________________\n",
      "dense_12 (Dense)             (None, 30)                630       \n",
      "_________________________________________________________________\n",
      "dropout_11 (Dropout)         (None, 30)                0         \n",
      "_________________________________________________________________\n",
      "dense_13 (Dense)             (None, 40)                1240      \n",
      "_________________________________________________________________\n",
      "dropout_12 (Dropout)         (None, 40)                0         \n",
      "_________________________________________________________________\n",
      "dense_14 (Dense)             (None, 50)                2050      \n",
      "_________________________________________________________________\n",
      "dropout_13 (Dropout)         (None, 50)                0         \n",
      "_________________________________________________________________\n",
      "dense_15 (Dense)             (None, 60)                3060      \n",
      "_________________________________________________________________\n",
      "dropout_14 (Dropout)         (None, 60)                0         \n",
      "_________________________________________________________________\n",
      "dense_16 (Dense)             (None, 70)                4270      \n",
      "_________________________________________________________________\n",
      "dropout_15 (Dropout)         (None, 70)                0         \n",
      "_________________________________________________________________\n",
      "dense_17 (Dense)             (None, 80)                5680      \n",
      "_________________________________________________________________\n",
      "dropout_16 (Dropout)         (None, 80)                0         \n",
      "_________________________________________________________________\n",
      "dense_18 (Dense)             (None, 90)                7290      \n",
      "_________________________________________________________________\n",
      "dropout_17 (Dropout)         (None, 90)                0         \n",
      "_________________________________________________________________\n",
      "dense_19 (Dense)             (None, 2)                 182       \n",
      "=================================================================\n",
      "Total params: 24,812\n",
      "Trainable params: 24,812\n",
      "Non-trainable params: 0\n",
      "_________________________________________________________________\n",
      "****** Completed building the model using the function build_model ******\n",
      "****** Start training the model using the train dataSet ******\n",
      "Train on 190000 samples, validate on 10000 samples\n",
      "Epoch 1/10\n",
      " - 5s - loss: 0.9116 - acc: 0.9412 - val_loss: 0.6560 - val_acc: 0.9593\n",
      "Epoch 2/10\n",
      " - 2s - loss: 0.6440 - acc: 0.9570 - val_loss: 0.6560 - val_acc: 0.9593\n",
      "Epoch 3/10\n",
      " - 2s - loss: 0.6395 - acc: 0.9570 - val_loss: 0.6560 - val_acc: 0.9593\n",
      "Epoch 4/10\n",
      " - 2s - loss: 0.6387 - acc: 0.9570 - val_loss: 0.6560 - val_acc: 0.9593\n",
      "Epoch 5/10\n",
      " - 2s - loss: 0.6377 - acc: 0.9570 - val_loss: 0.6560 - val_acc: 0.9593\n",
      "Epoch 6/10\n",
      " - 2s - loss: 0.6395 - acc: 0.9570 - val_loss: 0.6560 - val_acc: 0.9593\n",
      "Epoch 7/10\n",
      " - 2s - loss: 0.6394 - acc: 0.9570 - val_loss: 0.6560 - val_acc: 0.9593\n",
      "Epoch 8/10\n",
      " - 2s - loss: 0.6381 - acc: 0.9570 - val_loss: 0.6560 - val_acc: 0.9593\n",
      "Epoch 9/10\n",
      " - 2s - loss: 0.6361 - acc: 0.9570 - val_loss: 0.6560 - val_acc: 0.9593\n",
      "Epoch 10/10\n",
      " - 2s - loss: 0.6385 - acc: 0.9570 - val_loss: 0.6560 - val_acc: 0.9593\n",
      "****** Completed training the model using the train dataSet ******\n",
      "****** Evaluate the model train accuracy ******\n",
      "190000/190000 [==============================] - 14s 76us/sample - loss: 0.6936 - acc: 0.9570\n",
      "Model accuracy on train dataSet: 0.9569684\n",
      "Model loss on train dataSet: 0.693587145243193\n",
      "****** Evaluate the model test accuracy ******\n",
      "10000/10000 [==============================] - 1s 80us/sample - loss: 0.6560 - acc: 0.9593\n",
      "Model accuracy on test dataSet: 0.9593\n",
      "Model loss on test dataSet: 0.6560065378189082\n"
     ]
    }
   ],
   "source": [
    "model2, model2History, model2TrainAccuracy, model2TestAccuracy = predictBestBidUsingDeepNeuralNetwork(200000, 0.05)"
   ]
  },
  {
   "cell_type": "code",
   "execution_count": 34,
   "metadata": {
    "colab": {
     "base_uri": "https://localhost:8080/",
     "height": 1445
    },
    "colab_type": "code",
    "id": "rGKt8MoPCrCI",
    "outputId": "b6d0fcf7-e194-495f-8570-8f38a490b5c7"
   },
   "outputs": [
    {
     "name": "stdout",
     "output_type": "stream",
     "text": [
      "****** Start generating the dataSet ******\n",
      "****** Completed generating the dataSet ******\n",
      "****** Start preprocessing the dataSet ******\n",
      "****** Completed preprocessing the dataSet ******\n",
      "****** Start spliting the dataset into Train & Test sets ******\n",
      "****** Completed spliting the dataset into Train & Test sets ******\n",
      "****** Start building the model using the function build_model ******\n",
      "_________________________________________________________________\n",
      "Layer (type)                 Output Shape              Param #   \n",
      "=================================================================\n",
      "dense_20 (Dense)             (None, 10)                190       \n",
      "_________________________________________________________________\n",
      "dropout_18 (Dropout)         (None, 10)                0         \n",
      "_________________________________________________________________\n",
      "dense_21 (Dense)             (None, 20)                220       \n",
      "_________________________________________________________________\n",
      "dropout_19 (Dropout)         (None, 20)                0         \n",
      "_________________________________________________________________\n",
      "dense_22 (Dense)             (None, 30)                630       \n",
      "_________________________________________________________________\n",
      "dropout_20 (Dropout)         (None, 30)                0         \n",
      "_________________________________________________________________\n",
      "dense_23 (Dense)             (None, 40)                1240      \n",
      "_________________________________________________________________\n",
      "dropout_21 (Dropout)         (None, 40)                0         \n",
      "_________________________________________________________________\n",
      "dense_24 (Dense)             (None, 50)                2050      \n",
      "_________________________________________________________________\n",
      "dropout_22 (Dropout)         (None, 50)                0         \n",
      "_________________________________________________________________\n",
      "dense_25 (Dense)             (None, 60)                3060      \n",
      "_________________________________________________________________\n",
      "dropout_23 (Dropout)         (None, 60)                0         \n",
      "_________________________________________________________________\n",
      "dense_26 (Dense)             (None, 70)                4270      \n",
      "_________________________________________________________________\n",
      "dropout_24 (Dropout)         (None, 70)                0         \n",
      "_________________________________________________________________\n",
      "dense_27 (Dense)             (None, 80)                5680      \n",
      "_________________________________________________________________\n",
      "dropout_25 (Dropout)         (None, 80)                0         \n",
      "_________________________________________________________________\n",
      "dense_28 (Dense)             (None, 90)                7290      \n",
      "_________________________________________________________________\n",
      "dropout_26 (Dropout)         (None, 90)                0         \n",
      "_________________________________________________________________\n",
      "dense_29 (Dense)             (None, 2)                 182       \n",
      "=================================================================\n",
      "Total params: 24,812\n",
      "Trainable params: 24,812\n",
      "Non-trainable params: 0\n",
      "_________________________________________________________________\n",
      "****** Completed building the model using the function build_model ******\n",
      "****** Start training the model using the train dataSet ******\n",
      "Train on 270000 samples, validate on 30000 samples\n",
      "Epoch 1/10\n",
      " - 5s - loss: 1.2558 - acc: 0.9196 - val_loss: 0.7178 - val_acc: 0.9555\n",
      "Epoch 2/10\n",
      " - 3s - loss: 0.6578 - acc: 0.9559 - val_loss: 0.7178 - val_acc: 0.9555\n",
      "Epoch 3/10\n",
      " - 3s - loss: 0.6544 - acc: 0.9559 - val_loss: 0.7178 - val_acc: 0.9555\n",
      "Epoch 4/10\n",
      " - 3s - loss: 0.6528 - acc: 0.9560 - val_loss: 0.7178 - val_acc: 0.9555\n",
      "Epoch 5/10\n",
      " - 3s - loss: 0.6540 - acc: 0.9560 - val_loss: 0.7178 - val_acc: 0.9555\n",
      "Epoch 6/10\n",
      " - 3s - loss: 0.6566 - acc: 0.9560 - val_loss: 0.7178 - val_acc: 0.9555\n",
      "Epoch 7/10\n",
      " - 3s - loss: 0.6556 - acc: 0.9560 - val_loss: 0.7178 - val_acc: 0.9555\n",
      "Epoch 8/10\n",
      " - 3s - loss: 0.6544 - acc: 0.9560 - val_loss: 0.7178 - val_acc: 0.9555\n",
      "Epoch 9/10\n",
      " - 3s - loss: 0.6559 - acc: 0.9560 - val_loss: 0.7178 - val_acc: 0.9555\n",
      "Epoch 10/10\n",
      " - 3s - loss: 0.6568 - acc: 0.9560 - val_loss: 0.7178 - val_acc: 0.9555\n",
      "****** Completed training the model using the train dataSet ******\n",
      "****** Evaluate the model train accuracy ******\n",
      "270000/270000 [==============================] - 21s 78us/sample - loss: 0.7090 - acc: 0.9560\n",
      "Model accuracy on train dataSet: 0.9560111\n",
      "Model loss on train dataSet: 0.7090171564839505\n",
      "****** Evaluate the model test accuracy ******\n",
      "30000/30000 [==============================] - 2s 77us/sample - loss: 0.7178 - acc: 0.9555\n",
      "Model accuracy on test dataSet: 0.9554667\n",
      "Model loss on test dataSet: 0.7177925626873968\n"
     ]
    }
   ],
   "source": [
    "model3, model3History, model3TrainAccuracy, model3TestAccuracy = predictBestBidUsingDeepNeuralNetwork(300000, 0.10)"
   ]
  },
  {
   "cell_type": "code",
   "execution_count": 35,
   "metadata": {
    "colab": {
     "base_uri": "https://localhost:8080/",
     "height": 1445
    },
    "colab_type": "code",
    "id": "JpNUpSMUCrCN",
    "outputId": "840b63e6-392b-48d0-c7a5-87b2306f99ce"
   },
   "outputs": [
    {
     "name": "stdout",
     "output_type": "stream",
     "text": [
      "****** Start generating the dataSet ******\n",
      "****** Completed generating the dataSet ******\n",
      "****** Start preprocessing the dataSet ******\n",
      "****** Completed preprocessing the dataSet ******\n",
      "****** Start spliting the dataset into Train & Test sets ******\n",
      "****** Completed spliting the dataset into Train & Test sets ******\n",
      "****** Start building the model using the function build_model ******\n",
      "_________________________________________________________________\n",
      "Layer (type)                 Output Shape              Param #   \n",
      "=================================================================\n",
      "dense_30 (Dense)             (None, 10)                190       \n",
      "_________________________________________________________________\n",
      "dropout_27 (Dropout)         (None, 10)                0         \n",
      "_________________________________________________________________\n",
      "dense_31 (Dense)             (None, 20)                220       \n",
      "_________________________________________________________________\n",
      "dropout_28 (Dropout)         (None, 20)                0         \n",
      "_________________________________________________________________\n",
      "dense_32 (Dense)             (None, 30)                630       \n",
      "_________________________________________________________________\n",
      "dropout_29 (Dropout)         (None, 30)                0         \n",
      "_________________________________________________________________\n",
      "dense_33 (Dense)             (None, 40)                1240      \n",
      "_________________________________________________________________\n",
      "dropout_30 (Dropout)         (None, 40)                0         \n",
      "_________________________________________________________________\n",
      "dense_34 (Dense)             (None, 50)                2050      \n",
      "_________________________________________________________________\n",
      "dropout_31 (Dropout)         (None, 50)                0         \n",
      "_________________________________________________________________\n",
      "dense_35 (Dense)             (None, 60)                3060      \n",
      "_________________________________________________________________\n",
      "dropout_32 (Dropout)         (None, 60)                0         \n",
      "_________________________________________________________________\n",
      "dense_36 (Dense)             (None, 70)                4270      \n",
      "_________________________________________________________________\n",
      "dropout_33 (Dropout)         (None, 70)                0         \n",
      "_________________________________________________________________\n",
      "dense_37 (Dense)             (None, 80)                5680      \n",
      "_________________________________________________________________\n",
      "dropout_34 (Dropout)         (None, 80)                0         \n",
      "_________________________________________________________________\n",
      "dense_38 (Dense)             (None, 90)                7290      \n",
      "_________________________________________________________________\n",
      "dropout_35 (Dropout)         (None, 90)                0         \n",
      "_________________________________________________________________\n",
      "dense_39 (Dense)             (None, 2)                 182       \n",
      "=================================================================\n",
      "Total params: 24,812\n",
      "Trainable params: 24,812\n",
      "Non-trainable params: 0\n",
      "_________________________________________________________________\n",
      "****** Completed building the model using the function build_model ******\n",
      "****** Start training the model using the train dataSet ******\n",
      "Train on 360000 samples, validate on 40000 samples\n",
      "Epoch 1/10\n",
      " - 7s - loss: 0.9764 - acc: 0.9362 - val_loss: 0.7245 - val_acc: 0.9550\n",
      "Epoch 2/10\n",
      " - 5s - loss: 0.6338 - acc: 0.9565 - val_loss: 0.7245 - val_acc: 0.9550\n",
      "Epoch 3/10\n",
      " - 5s - loss: 0.6306 - acc: 0.9565 - val_loss: 0.7245 - val_acc: 0.9550\n",
      "Epoch 4/10\n",
      " - 4s - loss: 0.6320 - acc: 0.9565 - val_loss: 0.7245 - val_acc: 0.9550\n",
      "Epoch 5/10\n",
      " - 5s - loss: 0.6309 - acc: 0.9565 - val_loss: 0.7245 - val_acc: 0.9550\n",
      "Epoch 6/10\n",
      " - 4s - loss: 0.6331 - acc: 0.9565 - val_loss: 0.7245 - val_acc: 0.9550\n",
      "Epoch 7/10\n",
      " - 5s - loss: 0.6302 - acc: 0.9565 - val_loss: 0.7245 - val_acc: 0.9550\n",
      "Epoch 8/10\n",
      " - 4s - loss: 0.6325 - acc: 0.9565 - val_loss: 0.7245 - val_acc: 0.9550\n",
      "Epoch 9/10\n",
      " - 5s - loss: 0.6297 - acc: 0.9565 - val_loss: 0.7245 - val_acc: 0.9550\n",
      "Epoch 10/10\n",
      " - 4s - loss: 0.6294 - acc: 0.9565 - val_loss: 0.7245 - val_acc: 0.9550\n",
      "****** Completed training the model using the train dataSet ******\n",
      "****** Evaluate the model train accuracy ******\n",
      "360000/360000 [==============================] - 30s 83us/sample - loss: 0.7011 - acc: 0.9565\n",
      "Model accuracy on train dataSet: 0.9565\n",
      "Model loss on train dataSet: 0.7011371995872921\n",
      "****** Evaluate the model test accuracy ******\n",
      "40000/40000 [==============================] - 3s 84us/sample - loss: 0.7245 - acc: 0.9550\n",
      "Model accuracy on test dataSet: 0.95505\n",
      "Model loss on test dataSet: 0.7245084362208842\n"
     ]
    }
   ],
   "source": [
    "model4, model4History, model4TrainAccuracy, model4TestAccuracy = predictBestBidUsingDeepNeuralNetwork(400000, 0.10)"
   ]
  },
  {
   "cell_type": "code",
   "execution_count": 36,
   "metadata": {
    "colab": {
     "base_uri": "https://localhost:8080/",
     "height": 3349
    },
    "colab_type": "code",
    "id": "H4VkQmu_DIUe",
    "outputId": "2d4174f4-549a-410b-c106-f482460b9469"
   },
   "outputs": [
    {
     "name": "stdout",
     "output_type": "stream",
     "text": [
      "**************************************************************************\n",
      "************************* Summary of Model 1 *****************************\n",
      "**************************************************************************\n",
      "_________________________________________________________________\n",
      "Layer (type)                 Output Shape              Param #   \n",
      "=================================================================\n",
      "dense (Dense)                (None, 10)                190       \n",
      "_________________________________________________________________\n",
      "dropout (Dropout)            (None, 10)                0         \n",
      "_________________________________________________________________\n",
      "dense_1 (Dense)              (None, 20)                220       \n",
      "_________________________________________________________________\n",
      "dropout_1 (Dropout)          (None, 20)                0         \n",
      "_________________________________________________________________\n",
      "dense_2 (Dense)              (None, 30)                630       \n",
      "_________________________________________________________________\n",
      "dropout_2 (Dropout)          (None, 30)                0         \n",
      "_________________________________________________________________\n",
      "dense_3 (Dense)              (None, 40)                1240      \n",
      "_________________________________________________________________\n",
      "dropout_3 (Dropout)          (None, 40)                0         \n",
      "_________________________________________________________________\n",
      "dense_4 (Dense)              (None, 50)                2050      \n",
      "_________________________________________________________________\n",
      "dropout_4 (Dropout)          (None, 50)                0         \n",
      "_________________________________________________________________\n",
      "dense_5 (Dense)              (None, 60)                3060      \n",
      "_________________________________________________________________\n",
      "dropout_5 (Dropout)          (None, 60)                0         \n",
      "_________________________________________________________________\n",
      "dense_6 (Dense)              (None, 70)                4270      \n",
      "_________________________________________________________________\n",
      "dropout_6 (Dropout)          (None, 70)                0         \n",
      "_________________________________________________________________\n",
      "dense_7 (Dense)              (None, 80)                5680      \n",
      "_________________________________________________________________\n",
      "dropout_7 (Dropout)          (None, 80)                0         \n",
      "_________________________________________________________________\n",
      "dense_8 (Dense)              (None, 90)                7290      \n",
      "_________________________________________________________________\n",
      "dropout_8 (Dropout)          (None, 90)                0         \n",
      "_________________________________________________________________\n",
      "dense_9 (Dense)              (None, 2)                 182       \n",
      "=================================================================\n",
      "Total params: 24,812\n",
      "Trainable params: 24,812\n",
      "Non-trainable params: 0\n",
      "_________________________________________________________________\n",
      "None\n",
      "**************************************************************************\n",
      "************************* Summary of Model 2 *****************************\n",
      "**************************************************************************\n",
      "_________________________________________________________________\n",
      "Layer (type)                 Output Shape              Param #   \n",
      "=================================================================\n",
      "dense_10 (Dense)             (None, 10)                190       \n",
      "_________________________________________________________________\n",
      "dropout_9 (Dropout)          (None, 10)                0         \n",
      "_________________________________________________________________\n",
      "dense_11 (Dense)             (None, 20)                220       \n",
      "_________________________________________________________________\n",
      "dropout_10 (Dropout)         (None, 20)                0         \n",
      "_________________________________________________________________\n",
      "dense_12 (Dense)             (None, 30)                630       \n",
      "_________________________________________________________________\n",
      "dropout_11 (Dropout)         (None, 30)                0         \n",
      "_________________________________________________________________\n",
      "dense_13 (Dense)             (None, 40)                1240      \n",
      "_________________________________________________________________\n",
      "dropout_12 (Dropout)         (None, 40)                0         \n",
      "_________________________________________________________________\n",
      "dense_14 (Dense)             (None, 50)                2050      \n",
      "_________________________________________________________________\n",
      "dropout_13 (Dropout)         (None, 50)                0         \n",
      "_________________________________________________________________\n",
      "dense_15 (Dense)             (None, 60)                3060      \n",
      "_________________________________________________________________\n",
      "dropout_14 (Dropout)         (None, 60)                0         \n",
      "_________________________________________________________________\n",
      "dense_16 (Dense)             (None, 70)                4270      \n",
      "_________________________________________________________________\n",
      "dropout_15 (Dropout)         (None, 70)                0         \n",
      "_________________________________________________________________\n",
      "dense_17 (Dense)             (None, 80)                5680      \n",
      "_________________________________________________________________\n",
      "dropout_16 (Dropout)         (None, 80)                0         \n",
      "_________________________________________________________________\n",
      "dense_18 (Dense)             (None, 90)                7290      \n",
      "_________________________________________________________________\n",
      "dropout_17 (Dropout)         (None, 90)                0         \n",
      "_________________________________________________________________\n",
      "dense_19 (Dense)             (None, 2)                 182       \n",
      "=================================================================\n",
      "Total params: 24,812\n",
      "Trainable params: 24,812\n",
      "Non-trainable params: 0\n",
      "_________________________________________________________________\n",
      "None\n",
      "**************************************************************************\n",
      "************************* Summary of Model 3 *****************************\n",
      "**************************************************************************\n",
      "_________________________________________________________________\n",
      "Layer (type)                 Output Shape              Param #   \n",
      "=================================================================\n",
      "dense_20 (Dense)             (None, 10)                190       \n",
      "_________________________________________________________________\n",
      "dropout_18 (Dropout)         (None, 10)                0         \n",
      "_________________________________________________________________\n",
      "dense_21 (Dense)             (None, 20)                220       \n",
      "_________________________________________________________________\n",
      "dropout_19 (Dropout)         (None, 20)                0         \n",
      "_________________________________________________________________\n",
      "dense_22 (Dense)             (None, 30)                630       \n",
      "_________________________________________________________________\n",
      "dropout_20 (Dropout)         (None, 30)                0         \n",
      "_________________________________________________________________\n",
      "dense_23 (Dense)             (None, 40)                1240      \n",
      "_________________________________________________________________\n",
      "dropout_21 (Dropout)         (None, 40)                0         \n",
      "_________________________________________________________________\n",
      "dense_24 (Dense)             (None, 50)                2050      \n",
      "_________________________________________________________________\n",
      "dropout_22 (Dropout)         (None, 50)                0         \n",
      "_________________________________________________________________\n",
      "dense_25 (Dense)             (None, 60)                3060      \n",
      "_________________________________________________________________\n",
      "dropout_23 (Dropout)         (None, 60)                0         \n",
      "_________________________________________________________________\n",
      "dense_26 (Dense)             (None, 70)                4270      \n",
      "_________________________________________________________________\n",
      "dropout_24 (Dropout)         (None, 70)                0         \n",
      "_________________________________________________________________\n",
      "dense_27 (Dense)             (None, 80)                5680      \n",
      "_________________________________________________________________\n",
      "dropout_25 (Dropout)         (None, 80)                0         \n",
      "_________________________________________________________________\n",
      "dense_28 (Dense)             (None, 90)                7290      \n",
      "_________________________________________________________________\n",
      "dropout_26 (Dropout)         (None, 90)                0         \n",
      "_________________________________________________________________\n",
      "dense_29 (Dense)             (None, 2)                 182       \n",
      "=================================================================\n",
      "Total params: 24,812\n",
      "Trainable params: 24,812\n",
      "Non-trainable params: 0\n",
      "_________________________________________________________________\n",
      "None\n",
      "**************************************************************************\n",
      "************************* Summary of Model 4 *****************************\n",
      "**************************************************************************\n",
      "_________________________________________________________________\n",
      "Layer (type)                 Output Shape              Param #   \n",
      "=================================================================\n",
      "dense_30 (Dense)             (None, 10)                190       \n",
      "_________________________________________________________________\n",
      "dropout_27 (Dropout)         (None, 10)                0         \n",
      "_________________________________________________________________\n",
      "dense_31 (Dense)             (None, 20)                220       \n",
      "_________________________________________________________________\n",
      "dropout_28 (Dropout)         (None, 20)                0         \n",
      "_________________________________________________________________\n",
      "dense_32 (Dense)             (None, 30)                630       \n",
      "_________________________________________________________________\n",
      "dropout_29 (Dropout)         (None, 30)                0         \n",
      "_________________________________________________________________\n",
      "dense_33 (Dense)             (None, 40)                1240      \n",
      "_________________________________________________________________\n",
      "dropout_30 (Dropout)         (None, 40)                0         \n",
      "_________________________________________________________________\n",
      "dense_34 (Dense)             (None, 50)                2050      \n",
      "_________________________________________________________________\n",
      "dropout_31 (Dropout)         (None, 50)                0         \n",
      "_________________________________________________________________\n",
      "dense_35 (Dense)             (None, 60)                3060      \n",
      "_________________________________________________________________\n",
      "dropout_32 (Dropout)         (None, 60)                0         \n",
      "_________________________________________________________________\n",
      "dense_36 (Dense)             (None, 70)                4270      \n",
      "_________________________________________________________________\n",
      "dropout_33 (Dropout)         (None, 70)                0         \n",
      "_________________________________________________________________\n",
      "dense_37 (Dense)             (None, 80)                5680      \n",
      "_________________________________________________________________\n",
      "dropout_34 (Dropout)         (None, 80)                0         \n",
      "_________________________________________________________________\n",
      "dense_38 (Dense)             (None, 90)                7290      \n",
      "_________________________________________________________________\n",
      "dropout_35 (Dropout)         (None, 90)                0         \n",
      "_________________________________________________________________\n",
      "dense_39 (Dense)             (None, 2)                 182       \n",
      "=================================================================\n",
      "Total params: 24,812\n",
      "Trainable params: 24,812\n",
      "Non-trainable params: 0\n",
      "_________________________________________________________________\n",
      "None\n"
     ]
    }
   ],
   "source": [
    "#Models Summary\n",
    "print ('**************************************************************************')\n",
    "print ('************************* Summary of Model 1 *****************************')\n",
    "print ('**************************************************************************')\n",
    "print (model1.summary())\n",
    "print ('**************************************************************************')\n",
    "print ('************************* Summary of Model 2 *****************************')\n",
    "print ('**************************************************************************')\n",
    "print (model2.summary())\n",
    "print ('**************************************************************************')\n",
    "print ('************************* Summary of Model 3 *****************************')\n",
    "print ('**************************************************************************')\n",
    "print (model3.summary())\n",
    "print ('**************************************************************************')\n",
    "print ('************************* Summary of Model 4 *****************************')\n",
    "print ('**************************************************************************')\n",
    "print (model4.summary())\n"
   ]
  },
  {
   "cell_type": "code",
   "execution_count": 38,
   "metadata": {
    "colab": {
     "base_uri": "https://localhost:8080/",
     "height": 153
    },
    "colab_type": "code",
    "id": "3L3_tCtTGUyN",
    "outputId": "8ffc7fed-272a-42bc-be07-14125a54c5eb"
   },
   "outputs": [
    {
     "name": "stdout",
     "output_type": "stream",
     "text": [
      "+------------+--------------------------------------+------------------+-----------------+---------------+\n",
      "| Model Name | Number of examples used for training | Number of epochs | Train accuaracy | Test accuracy |\n",
      "+------------+--------------------------------------+------------------+-----------------+---------------+\n",
      "|   Model1   |                100000                |        10        |    0.95587367   |     0.9618    |\n",
      "|   Model2   |                200000                |        10        |    0.9569684    |     0.9593    |\n",
      "|   Model3   |                300000                |        10        |    0.9560111    |   0.9554667   |\n",
      "|   Model4   |                400000                |        10        |      0.9565     |    0.95505    |\n",
      "+------------+--------------------------------------+------------------+-----------------+---------------+\n"
     ]
    }
   ],
   "source": [
    "#Number of examples, train accuaracy, test accuracy, bias, variance\n",
    "from prettytable import PrettyTable\n",
    "summary = PrettyTable(['Model Name', 'Number of examples used for training', 'Number of epochs', 'Train accuaracy', 'Test accuracy'])\n",
    "summary.add_row(['Model1', 100000, 10, model1TrainAccuracy, model1TestAccuracy])\n",
    "summary.add_row(['Model2', 200000, 10, model2TrainAccuracy, model2TestAccuracy])\n",
    "summary.add_row(['Model3', 300000, 10, model3TrainAccuracy, model3TestAccuracy])\n",
    "summary.add_row(['Model4', 400000, 10, model4TrainAccuracy, model4TestAccuracy])\n",
    "print (summary)"
   ]
  },
  {
   "cell_type": "code",
   "execution_count": 43,
   "metadata": {
    "colab": {
     "base_uri": "https://localhost:8080/",
     "height": 609
    },
    "colab_type": "code",
    "id": "kbUJW3MfCrCR",
    "outputId": "e98d5f71-ee57-4f58-f9c9-d516139ef8f3"
   },
   "outputs": [
    {
     "data": {
      "image/png": "[encoded data removed]",
      "text/plain": [
       "<Figure size 1152x720 with 1 Axes>"
      ]
     },
     "metadata": {
      "needs_background": "light"
     },
     "output_type": "display_data"
    }
   ],
   "source": [
    "plot_history([('model1', model1History),\n",
    "              ('model2', model2History),\n",
    "              ('model3', model3History),\n",
    "              ('model4', model4History)])"
   ]
  }
 ],
 "metadata": {
  "accelerator": "GPU",
  "colab": {
   "collapsed_sections": [],
   "name": "PredictBestBidUsingDeepNeuralNetwork.ipynb",
   "provenance": [],
   "version": "0.3.2"
  },
  "kernelspec": {
   "display_name": "Python 3",
   "language": "python",
   "name": "python3"
  },
  "language_info": {
   "codemirror_mode": {
    "name": "ipython",
    "version": 3
   },
   "file_extension": ".py",
   "mimetype": "text/x-python",
   "name": "python",
   "nbconvert_exporter": "python",
   "pygments_lexer": "ipython3",
   "version": "3.6.8"
  }
 },
 "nbformat": 4,
 "nbformat_minor": 1
}
